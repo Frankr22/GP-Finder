{
 "cells": [
  {
   "cell_type": "code",
   "execution_count": 1,
   "id": "7534dbbe",
   "metadata": {},
   "outputs": [],
   "source": [
    "# Dependencies\n",
    "from bs4 import BeautifulSoup\n",
    "import requests, re\n",
    "import pandas as pd\n",
    "from geopy.geocoders import Nominatim"
   ]
  },
  {
   "cell_type": "code",
   "execution_count": 2,
   "id": "8c859b01",
   "metadata": {},
   "outputs": [],
   "source": [
    "# Function to scrape GP data\n",
    "def scrape_data(url):\n",
    "    response = requests.get(url)\n",
    "    soup = BeautifulSoup(response.text, 'html.parser')\n",
    "    gp_blocks = soup.find_all('div', {'class': 'results__details'})\n",
    "    gp_data = []\n",
    "    for block in gp_blocks:\n",
    "        name = block.find('h2', {'id': lambda x: x and x.startswith('orgname_')}).text.strip()\n",
    "        address = block.find('p', {'id': lambda x: x and x.startswith('address_')}).text.strip()\n",
    "        phone = block.find('p', {'id': lambda x: x and x.startswith('phone_')}).text.strip()\n",
    "        tags = block.find_all('strong', {'id': lambda x: x and x.startswith('result_item_')})\n",
    "        tags_text = [tag.text.strip() for tag in tags]\n",
    "        gp_data.append({\n",
    "            'Name': name,\n",
    "            'Address': address,\n",
    "            'Phone': phone,\n",
    "            'Accepting New Patients': 'Accepting new patients' in tags_text,\n",
    "            'Accepts Out of Area Registrations': 'Accepts out of area registrations' in tags_text,\n",
    "            'Online Registration Available': 'Online registration available' in tags_text\n",
    "        })\n",
    "    return gp_data\n",
    "\n",
    "# Function to scrape initial GP URLs\n",
    "def scrape_gp_links(url):\n",
    "    response = requests.get(url)\n",
    "    soup = BeautifulSoup(response.text, 'html.parser')\n",
    "    gp_links = []\n",
    "    for link in soup.find_all('a', {'class': 'nhsapp-open-in-webview'}):\n",
    "        href = link.get('href')\n",
    "        if not (href.startswith('javascript') or href.startswith('#')):\n",
    "            gp_links.append(href)\n",
    "    return gp_links\n",
    "\n",
    "# Scrape Reviews Function\n",
    "def scrape_reviews(gp_links):\n",
    "    reviews_data = []\n",
    "    for gp_url in gp_links:\n",
    "        review_url = f\"{gp_url}/ratings-and-reviews\"\n",
    "        try:\n",
    "            response = requests.get(review_url)\n",
    "            response.raise_for_status()\n",
    "            soup = BeautifulSoup(response.text, 'html.parser')\n",
    "            gp_name = soup.find('h1').text.strip().split('\\n')[0].strip()\n",
    "\n",
    "            review_blocks = soup.find_all('div', {'class': 'org-review'})\n",
    "            for block in review_blocks:\n",
    "                review_text_block = block.find('p', class_='comment-text')\n",
    "                if review_text_block:\n",
    "                    review_text = review_text_block.get_text(strip=True)\n",
    "                    reviews_data.append({'GPName': gp_name, 'ReviewText': review_text})\n",
    "                    \n",
    "        except requests.HTTPError as e:\n",
    "            print(f\"Could not fetch reviews for {gp_url}: {e}\")\n",
    "    \n",
    "    return reviews_data"
   ]
  },
  {
   "cell_type": "code",
   "execution_count": 3,
   "id": "8d46ef38",
   "metadata": {},
   "outputs": [],
   "source": [
    "# Function for Geocoding Addresses\n",
    "def geocode_addresses(gp_data):\n",
    "    geolocator = Nominatim(user_agent=\"GP_Finder_App\")\n",
    "    for gp in gp_data:\n",
    "        try:\n",
    "            location = geolocator.geocode(gp['Address'])\n",
    "            if location:\n",
    "                gp['Latitude'] = location.latitude\n",
    "                gp['Longitude'] = location.longitude\n",
    "            else:\n",
    "                gp['Latitude'] = None\n",
    "                gp['Longitude'] = None\n",
    "        except Exception as e:\n",
    "            print(f\"Error geocoding {gp['Address']}: {e}\")\n",
    "            gp['Latitude'] = None\n",
    "            gp['Longitude'] = None\n",
    "    return gp_data"
   ]
  },
  {
   "cell_type": "code",
   "execution_count": 4,
   "id": "0712bbee",
   "metadata": {},
   "outputs": [],
   "source": [
    "# Function to Export Data to CSV\n",
    "def export_to_csv(data, filename):\n",
    "    import os\n",
    "    path = f\"../data/{filename}\"\n",
    "    os.makedirs(os.path.dirname(path), exist_ok=True)\n",
    "    df = pd.DataFrame(data)\n",
    "    df.to_csv(path, index=False)\n",
    "    print(f\"Data exported to {path} successfully.\")"
   ]
  },
  {
   "cell_type": "code",
   "execution_count": 5,
   "id": "10f68bfe",
   "metadata": {},
   "outputs": [
    {
     "name": "stdout",
     "output_type": "stream",
     "text": [
      "Enter a postcode: sw129lq\n",
      "Data exported to ../data/gp_info.csv successfully.\n",
      "Data exported to ../data/gp_reviews.csv successfully.\n",
      "Data scraping and export completed.\n"
     ]
    }
   ],
   "source": [
    "# Main Execution\n",
    "if __name__ == \"__main__\":\n",
    "    # Ask the user for a postcode\n",
    "    postcode = input(\"Enter a postcode: \")\n",
    "    \n",
    "    # Update the URL with the user's postcode\n",
    "    url = f\"https://www.nhs.uk/service-search/find-a-gp/results/{postcode}\"\n",
    "    \n",
    "    # Scrape data\n",
    "    gp_data = scrape_data(url)\n",
    "    gp_links = scrape_gp_links(url)\n",
    "    reviews_data = scrape_reviews(gp_links)\n",
    "\n",
    "    # Geocode the addresses in the GP data\n",
    "    gp_data_geocoded = geocode_addresses(gp_data)\n",
    "\n",
    "    # Export GP data to CSV in the 'data' folder\n",
    "    export_to_csv(gp_data_geocoded, 'gp_info.csv')\n",
    "\n",
    "    # Export Reviews data to CSV in the 'data' folder\n",
    "    export_to_csv(reviews_data, 'gp_reviews.csv')\n",
    "\n",
    "    print(\"Data scraping and export completed.\")"
   ]
  }
 ],
 "metadata": {
  "kernelspec": {
   "display_name": "PythonData",
   "language": "python",
   "name": "pythondata"
  },
  "language_info": {
   "codemirror_mode": {
    "name": "ipython",
    "version": 3
   },
   "file_extension": ".py",
   "mimetype": "text/x-python",
   "name": "python",
   "nbconvert_exporter": "python",
   "pygments_lexer": "ipython3",
   "version": "3.7.7"
  }
 },
 "nbformat": 4,
 "nbformat_minor": 5
}
